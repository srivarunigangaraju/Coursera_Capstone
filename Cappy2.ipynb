{
    "cells": [
        {
            "cell_type": "markdown",
            "metadata": {
                "collapsed": true
            },
            "source": "# Segmentation and clustering in Hyderabad"
        },
        {
            "cell_type": "markdown",
            "metadata": {},
            "source": "### Business Problem"
        },
        {
            "cell_type": "markdown",
            "metadata": {},
            "source": "Hyderabad is one of the major cities in India. Most of the people here who are working rely on outside food everyday. \nHence it is a very good idea to start a new food chain in this city. But before starting the business, it is the task of every business person\nto analyse the pros and cons of the area where a food centre is to be established. Thus our project aims at finding out the locations in this city \nwhich are favourable for starting a new food chain business. By finding this we can help the owners to gain maximum profit.\n"
        },
        {
            "cell_type": "markdown",
            "metadata": {},
            "source": "### Data Collection"
        },
        {
            "cell_type": "markdown",
            "metadata": {},
            "source": "There are several sources to collect data for above problem. We have choosen WIKIPEDIA page of wikipedia.org/wiki/List_of_neighbourhoods_in_Hyderabad for neighbourhood data of Hyderabad and in later part we collect the venue data through foursquare api and model the data and prdeict the locations for ideal spots to keep a food chain in the Hyderabad city. At first the data of the neighbourhoods in Hyderabad can be extracted out by web scraping using BeautifulSoup library for Python. The neighbourhood data is taken from a Wikipedia webpage mentioned above. The file contents from Hyderabad csv is retrieved into a Pandas DataFrame. The latitude and longitude of the neighbourhoods are retrieved using geospacial data.The location values are then stored into the intial dataframe.From the location data obtained after the above data frame , the data is pointed out by passing in the required parameters to the FourSquare API, and creating another DataFrame to contain all the venue details along with the respective neighbourhoods. By choosing a methodology we obtain required locations"
        }
    ],
    "metadata": {
        "kernelspec": {
            "display_name": "Python 3.6",
            "language": "python",
            "name": "python3"
        },
        "language_info": {
            "codemirror_mode": {
                "name": "ipython",
                "version": 3
            },
            "file_extension": ".py",
            "mimetype": "text/x-python",
            "name": "python",
            "nbconvert_exporter": "python",
            "pygments_lexer": "ipython3",
            "version": "3.6.9"
        }
    },
    "nbformat": 4,
    "nbformat_minor": 1
}